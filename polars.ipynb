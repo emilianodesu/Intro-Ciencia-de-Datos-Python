{
 "cells": [
  {
   "cell_type": "code",
   "execution_count": 1,
   "id": "25ae721d",
   "metadata": {},
   "outputs": [],
   "source": [
    "#% pip install polars"
   ]
  },
  {
   "cell_type": "code",
   "execution_count": 2,
   "id": "827bc8f2",
   "metadata": {},
   "outputs": [],
   "source": [
    "import polars as pl"
   ]
  },
  {
   "cell_type": "code",
   "execution_count": 3,
   "id": "cc9ad4ad",
   "metadata": {},
   "outputs": [
    {
     "data": {
      "text/html": [
       "<div><style>\n",
       ".dataframe > thead > tr,\n",
       ".dataframe > tbody > tr {\n",
       "  text-align: right;\n",
       "  white-space: pre-wrap;\n",
       "}\n",
       "</style>\n",
       "<small>shape: (5,)</small><table border=\"1\" class=\"dataframe\"><thead><tr><th>mi_serie</th></tr><tr><td>i32</td></tr></thead><tbody><tr><td>1</td></tr><tr><td>2</td></tr><tr><td>3</td></tr><tr><td>4</td></tr><tr><td>5</td></tr></tbody></table></div>"
      ],
      "text/plain": [
       "shape: (5,)\n",
       "Series: 'mi_serie' [i32]\n",
       "[\n",
       "\t1\n",
       "\t2\n",
       "\t3\n",
       "\t4\n",
       "\t5\n",
       "]"
      ]
     },
     "execution_count": 3,
     "metadata": {},
     "output_type": "execute_result"
    }
   ],
   "source": [
    "mi_serie = pl.Series(\n",
    "    name=\"mi_serie\",\n",
    "    values=[1, 2, 3, 4, 5],\n",
    ").cast(pl.Int32)\n",
    "mi_serie"
   ]
  },
  {
   "cell_type": "code",
   "execution_count": 4,
   "id": "ecaedd23",
   "metadata": {},
   "outputs": [
    {
     "data": {
      "text/html": [
       "<div><style>\n",
       ".dataframe > thead > tr,\n",
       ".dataframe > tbody > tr {\n",
       "  text-align: right;\n",
       "  white-space: pre-wrap;\n",
       "}\n",
       "</style>\n",
       "<small>shape: (3,)</small><table border=\"1\" class=\"dataframe\"><thead><tr><th>mi_serie</th></tr><tr><td>i32</td></tr></thead><tbody><tr><td>3</td></tr><tr><td>4</td></tr><tr><td>5</td></tr></tbody></table></div>"
      ],
      "text/plain": [
       "shape: (3,)\n",
       "Series: 'mi_serie' [i32]\n",
       "[\n",
       "\t3\n",
       "\t4\n",
       "\t5\n",
       "]"
      ]
     },
     "execution_count": 4,
     "metadata": {},
     "output_type": "execute_result"
    }
   ],
   "source": [
    "mi_serie.filter(mi_serie > 2)"
   ]
  },
  {
   "cell_type": "code",
   "execution_count": 5,
   "id": "3d1454d5",
   "metadata": {},
   "outputs": [
    {
     "name": "stdout",
     "output_type": "stream",
     "text": [
      "El valor maximo es 5\n"
     ]
    }
   ],
   "source": [
    "print(f'El valor maximo es {mi_serie.max()}')"
   ]
  },
  {
   "cell_type": "code",
   "execution_count": 6,
   "id": "a72a24e0",
   "metadata": {},
   "outputs": [
    {
     "data": {
      "text/html": [
       "<div><style>\n",
       ".dataframe > thead > tr,\n",
       ".dataframe > tbody > tr {\n",
       "  text-align: right;\n",
       "  white-space: pre-wrap;\n",
       "}\n",
       "</style>\n",
       "<small>shape: (4, 4)</small><table border=\"1\" class=\"dataframe\"><thead><tr><th>Pokemon</th><th>Tipo 1</th><th>Tipo 2</th><th>HP</th></tr><tr><td>str</td><td>str</td><td>str</td><td>i32</td></tr></thead><tbody><tr><td>&quot;Pikachu&quot;</td><td>&quot;Electrico&quot;</td><td>null</td><td>35</td></tr><tr><td>&quot;Charmander&quot;</td><td>&quot;Fuego&quot;</td><td>null</td><td>39</td></tr><tr><td>&quot;Squirtle&quot;</td><td>&quot;Agua&quot;</td><td>null</td><td>44</td></tr><tr><td>&quot;Bulbasaur&quot;</td><td>&quot;Planta&quot;</td><td>&quot;Veneno&quot;</td><td>45</td></tr></tbody></table></div>"
      ],
      "text/plain": [
       "shape: (4, 4)\n",
       "┌────────────┬───────────┬────────┬─────┐\n",
       "│ Pokemon    ┆ Tipo 1    ┆ Tipo 2 ┆ HP  │\n",
       "│ ---        ┆ ---       ┆ ---    ┆ --- │\n",
       "│ str        ┆ str       ┆ str    ┆ i32 │\n",
       "╞════════════╪═══════════╪════════╪═════╡\n",
       "│ Pikachu    ┆ Electrico ┆ null   ┆ 35  │\n",
       "│ Charmander ┆ Fuego     ┆ null   ┆ 39  │\n",
       "│ Squirtle   ┆ Agua      ┆ null   ┆ 44  │\n",
       "│ Bulbasaur  ┆ Planta    ┆ Veneno ┆ 45  │\n",
       "└────────────┴───────────┴────────┴─────┘"
      ]
     },
     "execution_count": 6,
     "metadata": {},
     "output_type": "execute_result"
    }
   ],
   "source": [
    "df = pl.DataFrame(\n",
    "    {\n",
    "        \"Pokemon\": [\"Pikachu\", \"Charmander\", \"Squirtle\", \"Bulbasaur\"],\n",
    "        \"Tipo 1\": [\"Electrico\", \"Fuego\", \"Agua\", \"Planta\"],\n",
    "        \"Tipo 2\": [None, None, None, \"Veneno\"],\n",
    "        \"HP\" : [35, 39, 44, 45],\n",
    "    },\n",
    "    schema={\n",
    "        \"Pokemon\": pl.Utf8,\n",
    "        \"Tipo 1\": pl.Utf8,\n",
    "        \"Tipo 2\": pl.Utf8,\n",
    "        \"HP\": pl.Int32,\n",
    "    }\n",
    ")\n",
    "df"
   ]
  },
  {
   "cell_type": "code",
   "execution_count": 7,
   "id": "400b519e",
   "metadata": {},
   "outputs": [
    {
     "data": {
      "text/html": [
       "<div><style>\n",
       ".dataframe > thead > tr,\n",
       ".dataframe > tbody > tr {\n",
       "  text-align: right;\n",
       "  white-space: pre-wrap;\n",
       "}\n",
       "</style>\n",
       "<small>shape: (4, 4)</small><table border=\"1\" class=\"dataframe\"><thead><tr><th>Pokemon</th><th>Tipo 1</th><th>Tipo 2</th><th>HP</th></tr><tr><td>str</td><td>str</td><td>str</td><td>i32</td></tr></thead><tbody><tr><td>&quot;Pikachu&quot;</td><td>&quot;Electrico&quot;</td><td>null</td><td>0</td></tr><tr><td>&quot;Charmander&quot;</td><td>&quot;Fuego&quot;</td><td>null</td><td>4</td></tr><tr><td>&quot;Squirtle&quot;</td><td>&quot;Agua&quot;</td><td>null</td><td>9</td></tr><tr><td>&quot;Bulbasaur&quot;</td><td>&quot;Planta&quot;</td><td>&quot;Veneno&quot;</td><td>10</td></tr></tbody></table></div>"
      ],
      "text/plain": [
       "shape: (4, 4)\n",
       "┌────────────┬───────────┬────────┬─────┐\n",
       "│ Pokemon    ┆ Tipo 1    ┆ Tipo 2 ┆ HP  │\n",
       "│ ---        ┆ ---       ┆ ---    ┆ --- │\n",
       "│ str        ┆ str       ┆ str    ┆ i32 │\n",
       "╞════════════╪═══════════╪════════╪═════╡\n",
       "│ Pikachu    ┆ Electrico ┆ null   ┆ 0   │\n",
       "│ Charmander ┆ Fuego     ┆ null   ┆ 4   │\n",
       "│ Squirtle   ┆ Agua      ┆ null   ┆ 9   │\n",
       "│ Bulbasaur  ┆ Planta    ┆ Veneno ┆ 10  │\n",
       "└────────────┴───────────┴────────┴─────┘"
      ]
     },
     "execution_count": 7,
     "metadata": {},
     "output_type": "execute_result"
    }
   ],
   "source": [
    "# Simular que le pegaron al pokemon, le bajaron 35 HP\n",
    "df = df.with_columns(\n",
    "    (pl.col(\"HP\") - 35).alias(\"HP\")\n",
    ")\n",
    "df"
   ]
  },
  {
   "cell_type": "code",
   "execution_count": 8,
   "id": "476e1f5b",
   "metadata": {},
   "outputs": [
    {
     "data": {
      "text/html": [
       "<div><style>\n",
       ".dataframe > thead > tr,\n",
       ".dataframe > tbody > tr {\n",
       "  text-align: right;\n",
       "  white-space: pre-wrap;\n",
       "}\n",
       "</style>\n",
       "<small>shape: (4, 5)</small><table border=\"1\" class=\"dataframe\"><thead><tr><th>Pokemon</th><th>Tipo 1</th><th>Tipo 2</th><th>HP</th><th>Estado</th></tr><tr><td>str</td><td>str</td><td>str</td><td>i32</td><td>str</td></tr></thead><tbody><tr><td>&quot;Pikachu&quot;</td><td>&quot;Electrico&quot;</td><td>null</td><td>0</td><td>&quot;Muerto&quot;</td></tr><tr><td>&quot;Charmander&quot;</td><td>&quot;Fuego&quot;</td><td>null</td><td>4</td><td>&quot;Vivo&quot;</td></tr><tr><td>&quot;Squirtle&quot;</td><td>&quot;Agua&quot;</td><td>null</td><td>9</td><td>&quot;Vivo&quot;</td></tr><tr><td>&quot;Bulbasaur&quot;</td><td>&quot;Planta&quot;</td><td>&quot;Veneno&quot;</td><td>10</td><td>&quot;Vivo&quot;</td></tr></tbody></table></div>"
      ],
      "text/plain": [
       "shape: (4, 5)\n",
       "┌────────────┬───────────┬────────┬─────┬────────┐\n",
       "│ Pokemon    ┆ Tipo 1    ┆ Tipo 2 ┆ HP  ┆ Estado │\n",
       "│ ---        ┆ ---       ┆ ---    ┆ --- ┆ ---    │\n",
       "│ str        ┆ str       ┆ str    ┆ i32 ┆ str    │\n",
       "╞════════════╪═══════════╪════════╪═════╪════════╡\n",
       "│ Pikachu    ┆ Electrico ┆ null   ┆ 0   ┆ Muerto │\n",
       "│ Charmander ┆ Fuego     ┆ null   ┆ 4   ┆ Vivo   │\n",
       "│ Squirtle   ┆ Agua      ┆ null   ┆ 9   ┆ Vivo   │\n",
       "│ Bulbasaur  ┆ Planta    ┆ Veneno ┆ 10  ┆ Vivo   │\n",
       "└────────────┴───────────┴────────┴─────┴────────┘"
      ]
     },
     "execution_count": 8,
     "metadata": {},
     "output_type": "execute_result"
    }
   ],
   "source": [
    "# Agregar si esta vivo o muerto\n",
    "df = df.with_columns(\n",
    "    pl.when(\n",
    "        pl.col(\"HP\") > 0\n",
    "    ).then(\n",
    "        pl.lit(\"Vivo\")\n",
    "    ).otherwise(\n",
    "        pl.lit(\"Muerto\")\n",
    "    ).alias(\n",
    "        \"Estado\"\n",
    "    )\n",
    ")\n",
    "df"
   ]
  },
  {
   "cell_type": "code",
   "execution_count": 9,
   "id": "a60970eb",
   "metadata": {},
   "outputs": [
    {
     "data": {
      "text/html": [
       "<div><style>\n",
       ".dataframe > thead > tr,\n",
       ".dataframe > tbody > tr {\n",
       "  text-align: right;\n",
       "  white-space: pre-wrap;\n",
       "}\n",
       "</style>\n",
       "<small>shape: (4, 6)</small><table border=\"1\" class=\"dataframe\"><thead><tr><th>Pokemon</th><th>Tipo 1</th><th>Tipo 2</th><th>HP</th><th>Estado</th><th>Es mascota</th></tr><tr><td>str</td><td>str</td><td>str</td><td>i32</td><td>str</td><td>bool</td></tr></thead><tbody><tr><td>&quot;Pikachu&quot;</td><td>&quot;Electrico&quot;</td><td>null</td><td>0</td><td>&quot;Muerto&quot;</td><td>false</td></tr><tr><td>&quot;Charmander&quot;</td><td>&quot;Fuego&quot;</td><td>null</td><td>4</td><td>&quot;Vivo&quot;</td><td>false</td></tr><tr><td>&quot;Squirtle&quot;</td><td>&quot;Agua&quot;</td><td>null</td><td>9</td><td>&quot;Vivo&quot;</td><td>false</td></tr><tr><td>&quot;Bulbasaur&quot;</td><td>&quot;Planta&quot;</td><td>&quot;Veneno&quot;</td><td>10</td><td>&quot;Vivo&quot;</td><td>false</td></tr></tbody></table></div>"
      ],
      "text/plain": [
       "shape: (4, 6)\n",
       "┌────────────┬───────────┬────────┬─────┬────────┬────────────┐\n",
       "│ Pokemon    ┆ Tipo 1    ┆ Tipo 2 ┆ HP  ┆ Estado ┆ Es mascota │\n",
       "│ ---        ┆ ---       ┆ ---    ┆ --- ┆ ---    ┆ ---        │\n",
       "│ str        ┆ str       ┆ str    ┆ i32 ┆ str    ┆ bool       │\n",
       "╞════════════╪═══════════╪════════╪═════╪════════╪════════════╡\n",
       "│ Pikachu    ┆ Electrico ┆ null   ┆ 0   ┆ Muerto ┆ false      │\n",
       "│ Charmander ┆ Fuego     ┆ null   ┆ 4   ┆ Vivo   ┆ false      │\n",
       "│ Squirtle   ┆ Agua      ┆ null   ┆ 9   ┆ Vivo   ┆ false      │\n",
       "│ Bulbasaur  ┆ Planta    ┆ Veneno ┆ 10  ┆ Vivo   ┆ false      │\n",
       "└────────────┴───────────┴────────┴─────┴────────┴────────────┘"
      ]
     },
     "execution_count": 9,
     "metadata": {},
     "output_type": "execute_result"
    }
   ],
   "source": [
    "# Columna para decir si es la mascota de Pokemon o no\n",
    "df = df.with_columns(\n",
    "    pl.when(\n",
    "        \"Pokemon\" == \"Pikachu\"\n",
    "    ).then(\n",
    "        pl.lit(True)\n",
    "    ).otherwise(\n",
    "        pl.lit(False)\n",
    "    ).alias(\"Es mascota\")\n",
    ")\n",
    "df"
   ]
  },
  {
   "cell_type": "code",
   "execution_count": 10,
   "id": "766f518e",
   "metadata": {},
   "outputs": [
    {
     "data": {
      "text/plain": [
       "['Pokemon', 'Tipo 1', 'Tipo 2', 'HP', 'Estado', 'Es mascota']"
      ]
     },
     "execution_count": 10,
     "metadata": {},
     "output_type": "execute_result"
    }
   ],
   "source": [
    "column_names = df.columns\n",
    "column_names"
   ]
  },
  {
   "cell_type": "code",
   "execution_count": 11,
   "id": "1ea96ea7",
   "metadata": {},
   "outputs": [
    {
     "data": {
      "text/html": [
       "<div><style>\n",
       ".dataframe > thead > tr,\n",
       ".dataframe > tbody > tr {\n",
       "  text-align: right;\n",
       "  white-space: pre-wrap;\n",
       "}\n",
       "</style>\n",
       "<small>shape: (4, 1)</small><table border=\"1\" class=\"dataframe\"><thead><tr><th>Tipo 1</th></tr><tr><td>str</td></tr></thead><tbody><tr><td>&quot;Electrico&quot;</td></tr><tr><td>&quot;Fuego&quot;</td></tr><tr><td>&quot;Agua&quot;</td></tr><tr><td>&quot;Planta&quot;</td></tr></tbody></table></div>"
      ],
      "text/plain": [
       "shape: (4, 1)\n",
       "┌───────────┐\n",
       "│ Tipo 1    │\n",
       "│ ---       │\n",
       "│ str       │\n",
       "╞═══════════╡\n",
       "│ Electrico │\n",
       "│ Fuego     │\n",
       "│ Agua      │\n",
       "│ Planta    │\n",
       "└───────────┘"
      ]
     },
     "execution_count": 11,
     "metadata": {},
     "output_type": "execute_result"
    }
   ],
   "source": [
    "df.select(column_names[1])"
   ]
  },
  {
   "cell_type": "markdown",
   "id": "14f1861f",
   "metadata": {},
   "source": [
    "### Lazy frames"
   ]
  },
  {
   "cell_type": "code",
   "execution_count": 16,
   "id": "8c3ab228",
   "metadata": {},
   "outputs": [
    {
     "data": {
      "text/html": [
       "<h4>NAIVE QUERY PLAN</h4><p>run <b>LazyFrame.show_graph()</b> to see the optimized version</p><?xml version=\"1.0\" encoding=\"UTF-8\" standalone=\"no\"?>\r\n",
       "<!DOCTYPE svg PUBLIC \"-//W3C//DTD SVG 1.1//EN\"\r\n",
       " \"http://www.w3.org/Graphics/SVG/1.1/DTD/svg11.dtd\">\r\n",
       "<!-- Generated by graphviz version 12.2.1 (20241206.2353)\r\n",
       " -->\r\n",
       "<!-- Title: polars_query Pages: 1 -->\r\n",
       "<svg width=\"353pt\" height=\"193pt\"\r\n",
       " viewBox=\"0.00 0.00 352.50 193.00\" xmlns=\"http://www.w3.org/2000/svg\" xmlns:xlink=\"http://www.w3.org/1999/xlink\">\r\n",
       "<g id=\"graph0\" class=\"graph\" transform=\"scale(1 1) rotate(0) translate(4 189)\">\r\n",
       "<title>polars_query</title>\r\n",
       "<polygon fill=\"white\" stroke=\"none\" points=\"-4,4 -4,-189 348.5,-189 348.5,4 -4,4\"/>\r\n",
       "<!-- p1 -->\r\n",
       "<g id=\"node1\" class=\"node\">\r\n",
       "<title>p1</title>\r\n",
       "<polygon fill=\"none\" stroke=\"black\" points=\"344.5,-185 0,-185 0,-149 344.5,-149 344.5,-185\"/>\r\n",
       "<text text-anchor=\"middle\" x=\"172.25\" y=\"-161.95\" font-family=\"Times New Roman,serif\" font-size=\"14.00\">WITH COLUMNS [[(col(&quot;b&quot;)) + (col(&quot;a&quot;))].alias(&quot;suma&quot;)]</text>\r\n",
       "</g>\r\n",
       "<!-- p2 -->\r\n",
       "<g id=\"node2\" class=\"node\">\r\n",
       "<title>p2</title>\r\n",
       "<polygon fill=\"none\" stroke=\"black\" points=\"262.38,-113 82.12,-113 82.12,-77 262.38,-77 262.38,-113\"/>\r\n",
       "<text text-anchor=\"middle\" x=\"172.25\" y=\"-89.95\" font-family=\"Times New Roman,serif\" font-size=\"14.00\">FILTER BY [(col(&quot;a&quot;)) &gt; (2)]</text>\r\n",
       "</g>\r\n",
       "<!-- p1&#45;&#45;p2 -->\r\n",
       "<g id=\"edge1\" class=\"edge\">\r\n",
       "<title>p1&#45;&#45;p2</title>\r\n",
       "<path fill=\"none\" stroke=\"black\" d=\"M172.25,-148.7C172.25,-137.85 172.25,-123.92 172.25,-113.1\"/>\r\n",
       "</g>\r\n",
       "<!-- p3 -->\r\n",
       "<g id=\"node3\" class=\"node\">\r\n",
       "<title>p3</title>\r\n",
       "<polygon fill=\"none\" stroke=\"black\" points=\"201.62,-41 142.88,-41 142.88,0 201.62,0 201.62,-41\"/>\r\n",
       "<text text-anchor=\"middle\" x=\"172.25\" y=\"-23.7\" font-family=\"Times New Roman,serif\" font-size=\"14.00\">TABLE</text>\r\n",
       "<text text-anchor=\"middle\" x=\"172.25\" y=\"-7.2\" font-family=\"Times New Roman,serif\" font-size=\"14.00\">π */2</text>\r\n",
       "</g>\r\n",
       "<!-- p2&#45;&#45;p3 -->\r\n",
       "<g id=\"edge2\" class=\"edge\">\r\n",
       "<title>p2&#45;&#45;p3</title>\r\n",
       "<path fill=\"none\" stroke=\"black\" d=\"M172.25,-76.82C172.25,-66.18 172.25,-52.49 172.25,-41.38\"/>\r\n",
       "</g>\r\n",
       "</g>\r\n",
       "</svg>\r\n"
      ],
      "text/plain": [
       "<LazyFrame at 0x24EA0BCC050>"
      ]
     },
     "execution_count": 16,
     "metadata": {},
     "output_type": "execute_result"
    }
   ],
   "source": [
    "df_lazy = pl.DataFrame({\n",
    "    \"a\": [1, 2, 3, 4, 5],\n",
    "    \"b\": [6, 7, 8, 9, 10],\n",
    "}).lazy()\n",
    "\n",
    "df_transformed = df_lazy.filter(\n",
    "    pl.col(\"a\") > 2\n",
    ").with_columns(\n",
    "    (pl.col(\"b\") + pl.col(\"a\")).alias(\"suma\")\n",
    ")\n",
    "\n",
    "result = df_transformed\n",
    "result"
   ]
  },
  {
   "cell_type": "code",
   "execution_count": 17,
   "id": "88a4b724",
   "metadata": {},
   "outputs": [
    {
     "data": {
      "text/html": [
       "<div><style>\n",
       ".dataframe > thead > tr,\n",
       ".dataframe > tbody > tr {\n",
       "  text-align: right;\n",
       "  white-space: pre-wrap;\n",
       "}\n",
       "</style>\n",
       "<small>shape: (3, 3)</small><table border=\"1\" class=\"dataframe\"><thead><tr><th>a</th><th>b</th><th>suma</th></tr><tr><td>i64</td><td>i64</td><td>i64</td></tr></thead><tbody><tr><td>3</td><td>8</td><td>11</td></tr><tr><td>4</td><td>9</td><td>13</td></tr><tr><td>5</td><td>10</td><td>15</td></tr></tbody></table></div>"
      ],
      "text/plain": [
       "shape: (3, 3)\n",
       "┌─────┬─────┬──────┐\n",
       "│ a   ┆ b   ┆ suma │\n",
       "│ --- ┆ --- ┆ ---  │\n",
       "│ i64 ┆ i64 ┆ i64  │\n",
       "╞═════╪═════╪══════╡\n",
       "│ 3   ┆ 8   ┆ 11   │\n",
       "│ 4   ┆ 9   ┆ 13   │\n",
       "│ 5   ┆ 10  ┆ 15   │\n",
       "└─────┴─────┴──────┘"
      ]
     },
     "execution_count": 17,
     "metadata": {},
     "output_type": "execute_result"
    }
   ],
   "source": [
    "result.collect()"
   ]
  }
 ],
 "metadata": {
  "kernelspec": {
   "display_name": "py-master",
   "language": "python",
   "name": "python3"
  },
  "language_info": {
   "codemirror_mode": {
    "name": "ipython",
    "version": 3
   },
   "file_extension": ".py",
   "mimetype": "text/x-python",
   "name": "python",
   "nbconvert_exporter": "python",
   "pygments_lexer": "ipython3",
   "version": "3.13.1"
  }
 },
 "nbformat": 4,
 "nbformat_minor": 5
}
