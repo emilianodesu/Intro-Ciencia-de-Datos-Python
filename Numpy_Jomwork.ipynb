{
 "cells": [
  {
   "cell_type": "markdown",
   "metadata": {
    "id": "AnjfrYcx4MCI"
   },
   "source": [
    "# **Tarea de Numpy**\n",
    "\n",
    "Este notebook es el de los ejercicios >:)"
   ]
  },
  {
   "cell_type": "markdown",
   "metadata": {},
   "source": [
    "Mendoza Hernandez Carlos Emiliano"
   ]
  },
  {
   "cell_type": "code",
   "execution_count": 1,
   "metadata": {
    "colab": {
     "base_uri": "https://localhost:8080/"
    },
    "executionInfo": {
     "elapsed": 9511,
     "status": "ok",
     "timestamp": 1746659065345,
     "user": {
      "displayName": "David Elias González García",
      "userId": "10354222974665753730"
     },
     "user_tz": 360
    },
    "id": "qxKzpmVP8Lqs",
    "outputId": "7a48480b-7b6b-4905-a165-57dd0860d3c8"
   },
   "outputs": [
    {
     "name": "stdout",
     "output_type": "stream",
     "text": [
      "[1 2 3 4 5]\n",
      "3.0\n"
     ]
    }
   ],
   "source": [
    "import numpy as np\n",
    "np.set_printoptions(legacy='1.13')\n",
    "\n",
    "# Probando si si jala el numpy\n",
    "my_arreglow = np.array([1, 2, 3, 4, 5])\n",
    "\n",
    "print(my_arreglow)\n",
    "print(np.mean(my_arreglow))"
   ]
  },
  {
   "cell_type": "markdown",
   "metadata": {
    "id": "5bZxvLcH4Twv"
   },
   "source": [
    "## Ejercicios de refuerzo"
   ]
  },
  {
   "cell_type": "markdown",
   "metadata": {
    "id": "0DKnt0XJ4b0j"
   },
   "source": [
    "### **Ejercicio 1 - Crear un array de ceros:**\n",
    "Crea un array de tamaño (3, 4) lleno de ceros."
   ]
  },
  {
   "cell_type": "code",
   "execution_count": 2,
   "metadata": {
    "id": "XpBz8hQx4LD7"
   },
   "outputs": [
    {
     "data": {
      "text/plain": [
       "array([[ 0.,  0.,  0.,  0.],\n",
       "       [ 0.,  0.,  0.,  0.],\n",
       "       [ 0.,  0.,  0.,  0.]])"
      ]
     },
     "execution_count": 2,
     "metadata": {},
     "output_type": "execute_result"
    }
   ],
   "source": [
    "np.zeros((3, 4))"
   ]
  },
  {
   "cell_type": "markdown",
   "metadata": {
    "id": "3LhYSK4M91vQ"
   },
   "source": [
    "### **Ejercicio 2-  Suma de elementos:**\n",
    "Dado el array [1, 2, 3, 4, 5], calcula la suma de todos sus elementos usando NumPy."
   ]
  },
  {
   "cell_type": "code",
   "execution_count": 3,
   "metadata": {
    "id": "l0s1XSEL98xf"
   },
   "outputs": [
    {
     "data": {
      "text/plain": [
       "15"
      ]
     },
     "execution_count": 3,
     "metadata": {},
     "output_type": "execute_result"
    }
   ],
   "source": [
    "np.sum(np.array([1, 2, 3, 4, 5]))"
   ]
  },
  {
   "cell_type": "markdown",
   "metadata": {
    "id": "u1S6J4AI99Ae"
   },
   "source": [
    "### **Ejercicio 3 - Encontrar el máximo y mínimo:**\n",
    "Dado el array [10, 20, 30, 40, 50], encuentra el valor máximo y mínimo."
   ]
  },
  {
   "cell_type": "code",
   "execution_count": 4,
   "metadata": {
    "id": "rU0mZk0h-A0R"
   },
   "outputs": [
    {
     "data": {
      "text/plain": [
       "(50, 10)"
      ]
     },
     "execution_count": 4,
     "metadata": {},
     "output_type": "execute_result"
    }
   ],
   "source": [
    "array = np.array([10, 20, 30, 40, 50])\n",
    "array.max(), array.min()"
   ]
  },
  {
   "cell_type": "markdown",
   "metadata": {
    "id": "lACW-PKX-BDd"
   },
   "source": [
    "### **Ejercicio 4 - Encontrar el máximo y mínimo:**\n",
    " Dado el array [10, 20, 30, 40, 50], encuentra el valor máximo y mínimo.\n"
   ]
  },
  {
   "cell_type": "code",
   "execution_count": 5,
   "metadata": {
    "id": "-qHvH7gJ-Ede"
   },
   "outputs": [
    {
     "data": {
      "text/plain": [
       "(50, 10)"
      ]
     },
     "execution_count": 5,
     "metadata": {},
     "output_type": "execute_result"
    }
   ],
   "source": [
    "array = np.array([10, 20, 30, 40, 50])\n",
    "array.max(), array.min()"
   ]
  },
  {
   "cell_type": "markdown",
   "metadata": {
    "id": "ZkPxM1Wt-EmM"
   },
   "source": [
    "### **Ejercicio 5 - Generar números aleatorios:**\n",
    "  Genera un array de 5 números aleatorios entre 0 y 1."
   ]
  },
  {
   "cell_type": "code",
   "execution_count": 6,
   "metadata": {
    "id": "PBaN-yAp-Hu0"
   },
   "outputs": [
    {
     "data": {
      "text/plain": [
       "array([[ 0.15512711,  0.41067524,  0.18178319,  0.53329422,  0.74703457]])"
      ]
     },
     "execution_count": 6,
     "metadata": {},
     "output_type": "execute_result"
    }
   ],
   "source": [
    "np.random.random((1, 5))"
   ]
  },
  {
   "cell_type": "markdown",
   "metadata": {
    "id": "MEDxAgWLAE8Q"
   },
   "source": [
    "### **Ejercicio 6 - Promedio de un array:**\n",
    "Dado el array [5, 10, 15, 20, 25], calcula su promedio usando NumPy."
   ]
  },
  {
   "cell_type": "code",
   "execution_count": 7,
   "metadata": {
    "id": "HjnjecKuAOkN"
   },
   "outputs": [
    {
     "data": {
      "text/plain": [
       "3.0"
      ]
     },
     "execution_count": 7,
     "metadata": {},
     "output_type": "execute_result"
    }
   ],
   "source": [
    "np.array([1, 2, 3, 4, 5]).mean()"
   ]
  },
  {
   "cell_type": "markdown",
   "metadata": {
    "id": "Z93kn0htAPZb"
   },
   "source": [
    "### **Ejercicio 7 - Concatenar dos arrays**\n",
    "Dados los arrays A = [1, 2, 3] y B = [4, 5, 6], concaténalos en un solo array."
   ]
  },
  {
   "cell_type": "code",
   "execution_count": 8,
   "metadata": {
    "id": "NzldaS9RAS45"
   },
   "outputs": [
    {
     "data": {
      "text/plain": [
       "array([1, 2, 3, 4, 5, 6])"
      ]
     },
     "execution_count": 8,
     "metadata": {},
     "output_type": "execute_result"
    }
   ],
   "source": [
    "A = np.array([1,2,3])\n",
    "B = np.array([4,5,6])\n",
    "np.concatenate((A, B))"
   ]
  },
  {
   "cell_type": "markdown",
   "metadata": {
    "id": "bvTCzzFjAevg"
   },
   "source": [
    "### **Ejercicio 8 - Reshape de un Array**\n",
    "Dado el array [1, 2, 3, 4, 5, 6], cámbialo a una matriz de 2x3."
   ]
  },
  {
   "cell_type": "code",
   "execution_count": 9,
   "metadata": {
    "id": "0hfE1QUMAhB3"
   },
   "outputs": [
    {
     "data": {
      "text/plain": [
       "array([[1, 2, 3],\n",
       "       [4, 5, 6]])"
      ]
     },
     "execution_count": 9,
     "metadata": {},
     "output_type": "execute_result"
    }
   ],
   "source": [
    "np.array([1, 2, 3, 4, 5, 6]).reshape(2, 3)"
   ]
  },
  {
   "cell_type": "markdown",
   "metadata": {
    "id": "By9zMuMyYMNA"
   },
   "source": [
    "### **Ejercicio 9 - Producto punto (dot product):**\n",
    "Dados dos arrays A = [1, 2, 3] y B = [4, 5, 6], calcula su producto punto"
   ]
  },
  {
   "cell_type": "code",
   "execution_count": 10,
   "metadata": {
    "id": "Vj-94PgAhpmk"
   },
   "outputs": [
    {
     "data": {
      "text/plain": [
       "array([ 4, 10, 18])"
      ]
     },
     "execution_count": 10,
     "metadata": {},
     "output_type": "execute_result"
    }
   ],
   "source": [
    "A = np.array([1, 2, 3])\n",
    "B = np.array([4, 5, 6])\n",
    "A * B"
   ]
  },
  {
   "cell_type": "markdown",
   "metadata": {
    "id": "Z0UxB4reh4LU"
   },
   "source": [
    "### **Ejercicio 10 - Reorganizar un array:**\n",
    "Dado el array [1, 2, 3, 4, 5, 6, 7, 8, 9, 10], conviértelo en una matriz (2, 5)."
   ]
  },
  {
   "cell_type": "code",
   "execution_count": 11,
   "metadata": {
    "id": "GkjKd3SLh6Sf"
   },
   "outputs": [
    {
     "data": {
      "text/plain": [
       "array([[ 1,  2,  3,  4,  5],\n",
       "       [ 6,  7,  8,  9, 10]])"
      ]
     },
     "execution_count": 11,
     "metadata": {},
     "output_type": "execute_result"
    }
   ],
   "source": [
    "np.array([1,2,3,4,5,6,7,8,9,10]).reshape(2, 5)"
   ]
  },
  {
   "cell_type": "markdown",
   "metadata": {
    "id": "MpTGrPV5iE1Z"
   },
   "source": [
    "### **Ejercicio extra - Encontrar el *k*-ésimo elemento más pequeño en un array**\n",
    "Dado arr = np.array([9, 3, 6, 2, 1, 7]), encuentra el 3er elemento más pequeño sin ordenar el array completo.\n",
    "\n",
    "**Pista solución 1**: Se puede hacer con un método de Numpy\n",
    "\n",
    "**Pista solución 2**: El código se hace más complicado, pero se puede resolver con ciclos iterativos."
   ]
  },
  {
   "cell_type": "code",
   "execution_count": 12,
   "metadata": {
    "id": "OYaMOW-jiLlX"
   },
   "outputs": [
    {
     "data": {
      "text/plain": [
       "3"
      ]
     },
     "execution_count": 12,
     "metadata": {},
     "output_type": "execute_result"
    }
   ],
   "source": [
    "#Solucion :o\n",
    "arr = np.array([9, 3, 6, 2, 1, 7])\n",
    "np.partition(arr, 2)[2]"
   ]
  },
  {
   "cell_type": "markdown",
   "metadata": {
    "id": "Unyrp8HOCtMh"
   },
   "source": [
    "## **Ejercicios aplicados**"
   ]
  },
  {
   "cell_type": "markdown",
   "metadata": {
    "id": "K1CPCb12GeCz"
   },
   "source": [
    "### **Ejercicio: Cálculo de ROI (Retorno de Inversión)**\n",
    "Dadas las inversiones ([1000, 1500, 2000]) y sus retornos ([1200, 1650, 1800]), calcula el ROI porcentual para cada caso.\n",
    "\n",
    "*(Fórmula: ROI = ((retorno - inversión) / inversión) * 100"
   ]
  },
  {
   "cell_type": "code",
   "execution_count": 13,
   "metadata": {
    "id": "6Eo-aN8bCwg1"
   },
   "outputs": [
    {
     "data": {
      "text/plain": [
       "array([ 20.,  10., -10.])"
      ]
     },
     "execution_count": 13,
     "metadata": {},
     "output_type": "execute_result"
    }
   ],
   "source": [
    "# Solucion del ROIROIROIROIORIORI\n",
    "inversiones = np.array([1000, 1500, 2000])\n",
    "retornos = np.array([1200, 1650, 1800])\n",
    "roi = ((retornos - inversiones) / inversiones) * 100\n",
    "roi"
   ]
  },
  {
   "cell_type": "markdown",
   "metadata": {
    "id": "3CfyZVv4GksC"
   },
   "source": [
    "### **Ejercicio: Normalización de Datos**\n",
    "Tienes un dataset de precios de productos (en USD): [250, 320, 150, 500, 210]. Normaliza los valores al rango [0, 1] para compararlos en una escala común.\n",
    "\n",
    "**Formulita de la normalización**: (x - min) / (max - min): Para una escala valores entre 0 y 1."
   ]
  },
  {
   "cell_type": "code",
   "execution_count": 14,
   "metadata": {
    "id": "afTic4_JGxAy"
   },
   "outputs": [
    {
     "data": {
      "text/plain": [
       "array([ 0.28571429,  0.48571429,  0.        ,  1.        ,  0.17142857])"
      ]
     },
     "execution_count": 14,
     "metadata": {},
     "output_type": "execute_result"
    }
   ],
   "source": [
    "precios_usd = np.array([250, 320, 150, 500, 210])\n",
    "precios_min_max_norm = (precios_usd - precios_usd.min()) / (precios_usd.max() - precios_usd.min())\n",
    "precios_min_max_norm"
   ]
  },
  {
   "cell_type": "markdown",
   "metadata": {
    "id": "Px7Pdn7xHBAR"
   },
   "source": [
    "### **Ejercicio: Filtrado de Datos**\n",
    "En un array de ventas diarias ([1200, 0, 750, 2400, 0, 1800]), reemplaza los ceros (días sin ventas) por el promedio de los días con ventas."
   ]
  },
  {
   "cell_type": "code",
   "execution_count": 15,
   "metadata": {
    "id": "rqwubxX-HFBX"
   },
   "outputs": [
    {
     "data": {
      "text/plain": [
       "array([1200, 1025,  750, 2400, 1025, 1800])"
      ]
     },
     "execution_count": 15,
     "metadata": {},
     "output_type": "execute_result"
    }
   ],
   "source": [
    "ventas_diarias = np.array([1200, 0, 750, 2400, 0, 1800])\n",
    "ventas_diarias[ventas_diarias == 0] = ventas_diarias.mean()\n",
    "ventas_diarias"
   ]
  },
  {
   "cell_type": "markdown",
   "metadata": {
    "id": "dKK2wBEEdqzt"
   },
   "source": [
    "### **Ejercicio - Análisis de Presión Arterial**\n",
    "Tenemos un dataset de mediciones de presión arterial sistólica (mmHg) de 10 pacientes:\n",
    "[120, 135, 140, 118, 150, 130, 160, 125, 142, 128].\n",
    "\n",
    "Calculen:\n",
    "- Media y desviación estándar.\n",
    "- Identifiquen valores fuera del rango normal (90–140 mmHg)."
   ]
  },
  {
   "cell_type": "code",
   "execution_count": 16,
   "metadata": {
    "id": "RkYj4KJud0uu"
   },
   "outputs": [
    {
     "name": "stdout",
     "output_type": "stream",
     "text": [
      "134.8\n",
      "12.694880858\n",
      "[150 160 142]\n"
     ]
    }
   ],
   "source": [
    "presion_arterial = np.array([120, 135, 140, 118, 150, 130, 160, 125, 142, 128])\n",
    "media_pa = presion_arterial.mean()\n",
    "desviacion_pa = presion_arterial.std()\n",
    "pa_fuera_rango = presion_arterial[(presion_arterial < 90) | (presion_arterial > 140)]\n",
    "print(media_pa)\n",
    "print(desviacion_pa)\n",
    "print(pa_fuera_rango)"
   ]
  },
  {
   "cell_type": "markdown",
   "metadata": {
    "id": "ltzE201veNyz"
   },
   "source": [
    "### **Ejercicio - Cálculo del PIB per Cápita**\n",
    "Dados el PIB (en millones de USD) [500, 320, 700, 450] y la población (en millones) [10, 8, 12, 9] de 4 países, calculen el PIB per cápita y determinen el país con el mayor valor."
   ]
  },
  {
   "cell_type": "code",
   "execution_count": 17,
   "metadata": {
    "id": "TMl-OWMpeOcP"
   },
   "outputs": [
    {
     "name": "stdout",
     "output_type": "stream",
     "text": [
      "[ 50.          40.          58.33333333  50.        ]\n",
      "2\n"
     ]
    }
   ],
   "source": [
    "pib_en_millones_usd = np.array([500, 320, 700, 450])\n",
    "pob_en_millones = np.array([10, 8, 12, 9])\n",
    "pib_per_capita = pib_en_millones_usd / pob_en_millones\n",
    "mejor_pais = np.argmax(pib_per_capita)\n",
    "print(pib_per_capita)\n",
    "print(mejor_pais)"
   ]
  },
  {
   "cell_type": "markdown",
   "metadata": {
    "id": "7AP-dS9HgAO9"
   },
   "source": [
    "### **Ejercicio - Sistema de Drops (Probabilidades)**\n",
    "En un videojuego RPG, los enemigos al ser vencidos, pueden dropear (soltar):\n",
    "- 0 = Nada (50%).\n",
    "- 1 = Poción (30%).\n",
    "- 2 = Arma (15%).\n",
    "- 3 = Artefacto (5%).\n",
    "\n",
    "Simula 100 drops y cuenta cuántos artefactos se obtuvieron.\n",
    "\n",
    "*Ejemplo de salida*:\n",
    "\n",
    "```\n",
    "Artifactos obtenidos: 3\n",
    "```\n",
    "\n"
   ]
  },
  {
   "cell_type": "code",
   "execution_count": 18,
   "metadata": {
    "id": "828OGOwUgPBV"
   },
   "outputs": [
    {
     "name": "stdout",
     "output_type": "stream",
     "text": [
      "Artefactos obtenidos: 3\n"
     ]
    }
   ],
   "source": [
    "drops = np.array([0, 1, 2, 3])\n",
    "probas = np.array([0.50, 0.30, 0.15, 0.05])\n",
    "\n",
    "num_drops = 100\n",
    "drops_simulados = np.random.choice(drops, size=num_drops, p=probas)\n",
    "\n",
    "artefactos_obtenidos = np.sum(drops_simulados == 3)\n",
    "print(f\"Artefactos obtenidos: {artefactos_obtenidos}\")"
   ]
  }
 ],
 "metadata": {
  "colab": {
   "provenance": []
  },
  "kernelspec": {
   "display_name": "py-master",
   "language": "python",
   "name": "python3"
  },
  "language_info": {
   "codemirror_mode": {
    "name": "ipython",
    "version": 3
   },
   "file_extension": ".py",
   "mimetype": "text/x-python",
   "name": "python",
   "nbconvert_exporter": "python",
   "pygments_lexer": "ipython3",
   "version": "3.13.1"
  }
 },
 "nbformat": 4,
 "nbformat_minor": 0
}
